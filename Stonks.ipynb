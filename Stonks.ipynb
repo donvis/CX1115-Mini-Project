{
 "cells": [
  {
   "cell_type": "markdown",
   "metadata": {},
   "source": [
    "# How can we predict the trend of a stock of a company to gain better profits?\n",
    "\n",
    "# In this project, we are going to attempt to predict the share price movements of a company by training a model to trade via technical analysis. \n",
    "\n",
    "Technical analysis is done by analysing at the data provided by the Time Series data of stocks. There are many indicators out there which try to predict the movement of prices. How do we know which indicator is good or reliable in predicting movement prices? \n",
    "\n",
    "In this project, we will be using technical indicators with the highest usage in the API to predict the trends of a stock. By predicting the trend, we will know when we should buy, sell or hold the stock.\n",
    "\n",
    "\n",
    "\n",
    "## In this project, we're going to try to predict the price of share movements using the fundamental data of a company, in an attempt to measure a company's intrinsic value. Fundamental data refers to the company performances such as their Earnings, Income Statement, Balance Sheets and Cash Flows of a Company. We are going to extract their quarterly data instead of annual data for this project, as that brings us to having more data points for use during training to improve the accuracy of our model.\n",
    "\n"
   ]
  },
  {
   "cell_type": "code",
   "execution_count": 19,
   "metadata": {},
   "outputs": [],
   "source": [
    "# Basic Libraries\n",
    "import numpy as np\n",
    "import pandas as pd\n",
    "from pandas import DataFrame\n",
    "import requests\n",
    "import json \n",
    "\n",
    "\n",
    "# Constructing parameters to use API \n",
    "\n",
    "Key = \"C4TMJ9NCKD4YDEQ9\" # Api Key\n",
    "url = \"https://www.alphavantage.co/query?\" # Website to request data from\n",
    "daily = \"TIME_SERIES_DAILY\" # We are doing our analysis on data points of a daily basis.\n",
    "stock = \"AAPL\" # Here we are making use of Apple's stock in our analysis\n",
    "\n",
    "# parameters for \"function\" in the api.\n",
    "paramList = {\"function\", \"symbol\", \"apikey\"}\n",
    "dict = dict.fromkeys(paramList)\n",
    "param = {\n",
    "    \"function\" : daily,\n",
    "    \"symbol\" : stock,\n",
    "    \"apikey\" : Key,\n",
    "    \"outputsize\" : \"full\"\n",
    "}"
   ]
  },
  {
   "cell_type": "code",
   "execution_count": 20,
   "metadata": {},
   "outputs": [],
   "source": [
    "# Request data from AlphaVantage\n",
    "\n",
    "\n",
    "response = requests.get(url,param) # Request for Earnings data\n"
   ]
  },
  {
   "cell_type": "code",
   "execution_count": 28,
   "metadata": {
    "scrolled": true
   },
   "outputs": [
    {
     "data": {
      "text/html": [
       "<div>\n",
       "<style scoped>\n",
       "    .dataframe tbody tr th:only-of-type {\n",
       "        vertical-align: middle;\n",
       "    }\n",
       "\n",
       "    .dataframe tbody tr th {\n",
       "        vertical-align: top;\n",
       "    }\n",
       "\n",
       "    .dataframe thead th {\n",
       "        text-align: right;\n",
       "    }\n",
       "</style>\n",
       "<table border=\"1\" class=\"dataframe\">\n",
       "  <thead>\n",
       "    <tr style=\"text-align: right;\">\n",
       "      <th></th>\n",
       "      <th>1. open</th>\n",
       "      <th>2. high</th>\n",
       "      <th>3. low</th>\n",
       "      <th>4. close</th>\n",
       "      <th>5. volume</th>\n",
       "    </tr>\n",
       "  </thead>\n",
       "  <tbody>\n",
       "    <tr>\n",
       "      <th>2021-03-12</th>\n",
       "      <td>120.4000</td>\n",
       "      <td>121.1700</td>\n",
       "      <td>119.1600</td>\n",
       "      <td>121.0300</td>\n",
       "      <td>88105050</td>\n",
       "    </tr>\n",
       "    <tr>\n",
       "      <th>2021-03-11</th>\n",
       "      <td>122.5400</td>\n",
       "      <td>123.2100</td>\n",
       "      <td>121.2600</td>\n",
       "      <td>121.9600</td>\n",
       "      <td>103026514</td>\n",
       "    </tr>\n",
       "    <tr>\n",
       "      <th>2021-03-10</th>\n",
       "      <td>121.6900</td>\n",
       "      <td>122.1700</td>\n",
       "      <td>119.4500</td>\n",
       "      <td>119.9800</td>\n",
       "      <td>111943326</td>\n",
       "    </tr>\n",
       "    <tr>\n",
       "      <th>2021-03-09</th>\n",
       "      <td>119.0300</td>\n",
       "      <td>122.0600</td>\n",
       "      <td>118.7900</td>\n",
       "      <td>121.0850</td>\n",
       "      <td>129525780</td>\n",
       "    </tr>\n",
       "    <tr>\n",
       "      <th>2021-03-08</th>\n",
       "      <td>120.9300</td>\n",
       "      <td>121.0000</td>\n",
       "      <td>116.2100</td>\n",
       "      <td>116.3600</td>\n",
       "      <td>154376610</td>\n",
       "    </tr>\n",
       "  </tbody>\n",
       "</table>\n",
       "</div>"
      ],
      "text/plain": [
       "             1. open   2. high    3. low  4. close  5. volume\n",
       "2021-03-12  120.4000  121.1700  119.1600  121.0300   88105050\n",
       "2021-03-11  122.5400  123.2100  121.2600  121.9600  103026514\n",
       "2021-03-10  121.6900  122.1700  119.4500  119.9800  111943326\n",
       "2021-03-09  119.0300  122.0600  118.7900  121.0850  129525780\n",
       "2021-03-08  120.9300  121.0000  116.2100  116.3600  154376610"
      ]
     },
     "execution_count": 28,
     "metadata": {},
     "output_type": "execute_result"
    }
   ],
   "source": [
    "# Convert Data into json format, and put them into dataframes.\n",
    "# We extract the \"quarterly reports for each variable, as that is o\"\n",
    "data = response_E.json() \n",
    "df = pd.DataFrame(data[\"Time Series (Daily)\"]).T \n",
    "df.head()\n"
   ]
  },
  {
   "cell_type": "code",
   "execution_count": 22,
   "metadata": {},
   "outputs": [
    {
     "name": "stdout",
     "output_type": "stream",
     "text": [
      "<class 'pandas.core.frame.DataFrame'>\n",
      "Index: 5380 entries, 1. Information to 1999-11-01\n",
      "Data columns (total 2 columns):\n",
      " #   Column               Non-Null Count  Dtype \n",
      "---  ------               --------------  ----- \n",
      " 0   Meta Data            5 non-null      object\n",
      " 1   Time Series (Daily)  5375 non-null   object\n",
      "dtypes: object(2)\n",
      "memory usage: 126.1+ KB\n"
     ]
    }
   ],
   "source": [
    "df_E.info()"
   ]
  },
  {
   "cell_type": "code",
   "execution_count": 23,
   "metadata": {},
   "outputs": [
    {
     "data": {
      "text/plain": [
       "<bound method NDFrame.describe of                                                            Meta Data  \\\n",
       "1. Information     Daily Prices (open, high, low, close) and Volumes   \n",
       "2. Symbol                                                       AAPL   \n",
       "3. Last Refreshed                                         2021-03-12   \n",
       "4. Output Size                                             Full size   \n",
       "5. Time Zone                                              US/Eastern   \n",
       "...                                                              ...   \n",
       "1999-11-05                                                       NaN   \n",
       "1999-11-04                                                       NaN   \n",
       "1999-11-03                                                       NaN   \n",
       "1999-11-02                                                       NaN   \n",
       "1999-11-01                                                       NaN   \n",
       "\n",
       "                                                 Time Series (Daily)  \n",
       "1. Information                                                   NaN  \n",
       "2. Symbol                                                        NaN  \n",
       "3. Last Refreshed                                                NaN  \n",
       "4. Output Size                                                   NaN  \n",
       "5. Time Zone                                                     NaN  \n",
       "...                                                              ...  \n",
       "1999-11-05         {'1. open': '84.6200', '2. high': '88.3700', '...  \n",
       "1999-11-04         {'1. open': '82.0600', '2. high': '85.3700', '...  \n",
       "1999-11-03         {'1. open': '81.6200', '2. high': '83.2500', '...  \n",
       "1999-11-02         {'1. open': '78.0000', '2. high': '81.6900', '...  \n",
       "1999-11-01         {'1. open': '80.0000', '2. high': '80.6900', '...  \n",
       "\n",
       "[5380 rows x 2 columns]>"
      ]
     },
     "execution_count": 23,
     "metadata": {},
     "output_type": "execute_result"
    }
   ],
   "source": [
    "df_E.describe"
   ]
  },
  {
   "cell_type": "code",
   "execution_count": null,
   "metadata": {},
   "outputs": [],
   "source": []
  },
  {
   "cell_type": "code",
   "execution_count": null,
   "metadata": {},
   "outputs": [],
   "source": []
  },
  {
   "cell_type": "code",
   "execution_count": null,
   "metadata": {},
   "outputs": [],
   "source": []
  }
 ],
 "metadata": {
  "kernelspec": {
   "display_name": "Python 3",
   "language": "python",
   "name": "python3"
  },
  "language_info": {
   "codemirror_mode": {
    "name": "ipython",
    "version": 3
   },
   "file_extension": ".py",
   "mimetype": "text/x-python",
   "name": "python",
   "nbconvert_exporter": "python",
   "pygments_lexer": "ipython3",
   "version": "3.8.5"
  }
 },
 "nbformat": 4,
 "nbformat_minor": 4
}
