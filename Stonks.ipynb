{
 "cells": [
  {
   "cell_type": "markdown",
   "metadata": {},
   "source": [
    "### How can we predict the trend of a company's stock to gain better profits as a trader?\n",
    ">In this project, we are going to attempt to predict the share price movements of a chosen company by training a model to trade. \n",
    "\n",
    "### (1) What kind of analysis will we be using in this project?\n",
    "\n",
    "In this project, we are focusing on Technical Analysis.\n",
    "\n",
    "There are two main types of analysis done on stocks; Technical and Fundamental.\n",
    "\n",
    ">Fundamental analysis is done by trying to measure the company's intrinsic value through data such as company balance sheets, and accounts.\n",
    "\n",
    ">Technical analysis done by analysing the price action of a stock, such as the volume of shares traded everyday to determine the stock's supply and demand dynamics.\n",
    "\n",
    "### (2) What is our goal in this project?\n",
    "\n",
    "\n",
    "In this project, we will be using technical indicators with the highest usage in the AlphaVantage API to predict the trends of a stock. \n",
    "\n",
    "With this model, we will have 3 outcomes from out model depending on the trained model : Buy, Hold or Sell.\n",
    "\n",
    "\n"
   ]
  },
  {
   "cell_type": "code",
   "execution_count": 3,
   "metadata": {},
   "outputs": [],
   "source": [
    "# Basic Libraries\n",
    "import numpy as np\n",
    "import pandas as pd\n",
    "from pandas import DataFrame\n",
    "import requests\n",
    "import json \n",
    "\n",
    "\n",
    "# Constructing parameters to use API \n",
    "\n",
    "Key = \"C4TMJ9NCKD4YDEQ9\" # Api Key\n",
    "url = \"https://www.alphavantage.co/query?\" # Website to request data from\n",
    "daily = \"TIME_SERIES_DAILY\" # We are doing our analysis on data points of a daily basis.ock = \"AAPL\" # Here we are making use of Apple's stock in our analysis\n",
    "\n",
    "# parameters for \"function\" in the api.\n",
    "paramList = {\"function\", \"symbol\", \"apikey\"}\n",
    "dict = dict.fromkeys(paramList)\n",
    "param = {\n",
    "    \"function\" : daily,\n",
    "    \"symbol\" : stock,\n",
    "    \"apikey\" : Key,\n",
    "    \"outputsize\" : \"full\"\n",
    "}\n",
    "\n",
    "# Indicators that we plan to use\n",
    "\n",
    "# SMA - Simple Moving Average\n",
    "# EMA - Exponential Moving Average\n",
    "# MACD - Moving Average Convergence / Divergence\n",
    "# SOTCH - Stochastic Oscillator\n",
    "# RSI - Relative Strength Index\n",
    "# ADX - Average Directional Movement Index\n",
    "# CCI - Commidity Channel Index\n",
    "# AROON -  Aroon Indicator\n",
    "# BBANDS - Bollinger Bands\n",
    "# AD - Chaikin A/D line\n",
    "# OBV - Balance Volume Values"
   ]
  },
  {
   "cell_type": "markdown",
   "metadata": {},
   "source": [
    "### Due to the constraints of the AlphaVantage API (only 5 pull requests per minute and up to 500 requests per day) and the amount of data we are pulling is likely going to exceed that amount, we have decided to save the pulled requests into files, so we can easily access them and analyse them without encountering any problems."
   ]
  },
  {
   "cell_type": "code",
   "execution_count": 4,
   "metadata": {},
   "outputs": [
    {
     "data": {
      "text/html": [
       "<div>\n",
       "<style scoped>\n",
       "    .dataframe tbody tr th:only-of-type {\n",
       "        vertical-align: middle;\n",
       "    }\n",
       "\n",
       "    .dataframe tbody tr th {\n",
       "        vertical-align: top;\n",
       "    }\n",
       "\n",
       "    .dataframe thead th {\n",
       "        text-align: right;\n",
       "    }\n",
       "</style>\n",
       "<table border=\"1\" class=\"dataframe\">\n",
       "  <thead>\n",
       "    <tr style=\"text-align: right;\">\n",
       "      <th></th>\n",
       "      <th>1. open</th>\n",
       "      <th>2. high</th>\n",
       "      <th>3. low</th>\n",
       "      <th>4. close</th>\n",
       "      <th>5. volume</th>\n",
       "    </tr>\n",
       "  </thead>\n",
       "  <tbody>\n",
       "    <tr>\n",
       "      <th>2021-04-07</th>\n",
       "      <td>125.8300</td>\n",
       "      <td>127.9200</td>\n",
       "      <td>125.1400</td>\n",
       "      <td>127.9000</td>\n",
       "      <td>83466716</td>\n",
       "    </tr>\n",
       "    <tr>\n",
       "      <th>2021-04-06</th>\n",
       "      <td>126.5000</td>\n",
       "      <td>127.1300</td>\n",
       "      <td>125.6500</td>\n",
       "      <td>126.2100</td>\n",
       "      <td>80171253</td>\n",
       "    </tr>\n",
       "    <tr>\n",
       "      <th>2021-04-05</th>\n",
       "      <td>123.8700</td>\n",
       "      <td>126.1601</td>\n",
       "      <td>123.0700</td>\n",
       "      <td>125.9000</td>\n",
       "      <td>88651175</td>\n",
       "    </tr>\n",
       "    <tr>\n",
       "      <th>2021-04-01</th>\n",
       "      <td>123.6600</td>\n",
       "      <td>124.1800</td>\n",
       "      <td>122.4900</td>\n",
       "      <td>123.0000</td>\n",
       "      <td>75089134</td>\n",
       "    </tr>\n",
       "    <tr>\n",
       "      <th>2021-03-31</th>\n",
       "      <td>121.6500</td>\n",
       "      <td>123.5200</td>\n",
       "      <td>121.1500</td>\n",
       "      <td>122.1500</td>\n",
       "      <td>118323826</td>\n",
       "    </tr>\n",
       "  </tbody>\n",
       "</table>\n",
       "</div>"
      ],
      "text/plain": [
       "             1. open   2. high    3. low  4. close  5. volume\n",
       "2021-04-07  125.8300  127.9200  125.1400  127.9000   83466716\n",
       "2021-04-06  126.5000  127.1300  125.6500  126.2100   80171253\n",
       "2021-04-05  123.8700  126.1601  123.0700  125.9000   88651175\n",
       "2021-04-01  123.6600  124.1800  122.4900  123.0000   75089134\n",
       "2021-03-31  121.6500  123.5200  121.1500  122.1500  118323826"
      ]
     },
     "execution_count": 4,
     "metadata": {},
     "output_type": "execute_result"
    }
   ],
   "source": [
    "# Request data from AlphaVantage\n",
    "\n",
    "\n",
    "response = requests.get(url,param) # Request for Time-Series Data of stocks\n",
    "data = response.json() # Convert Data into json format, and put them into dataframes.\n",
    "df = pd.DataFrame(data[\"Time Series (Daily)\"]).T \n",
    "df.head()\n",
    "\n"
   ]
  },
  {
   "cell_type": "markdown",
   "metadata": {
    "scrolled": true
   },
   "source": [
    "For reader's information,\n",
    "\n",
    "Open is the price of the stock when the market has **started that day**.( Usually 9.30AM ET)\n",
    "\n",
    "High is the **highest price** the stock managed to reach that day.\n",
    "\n",
    "Low is the **lowest price** the stock managed to reach that day.\n",
    "\n",
    "Close is the price of the stock when the market has **closed that day**. ( Usually 5.30PM ET)\n",
    "\n",
    "\n",
    "Volume is the amount of shares traded that day.( Bought and Sold )"
   ]
  },
  {
   "cell_type": "code",
   "execution_count": 5,
   "metadata": {},
   "outputs": [
    {
     "name": "stdout",
     "output_type": "stream",
     "text": [
      "<class 'pandas.core.frame.DataFrame'>\n",
      "Index: 5392 entries, 2021-04-07 to 1999-11-01\n",
      "Data columns (total 5 columns):\n",
      " #   Column     Non-Null Count  Dtype \n",
      "---  ------     --------------  ----- \n",
      " 0   1. open    5392 non-null   object\n",
      " 1   2. high    5392 non-null   object\n",
      " 2   3. low     5392 non-null   object\n",
      " 3   4. close   5392 non-null   object\n",
      " 4   5. volume  5392 non-null   object\n",
      "dtypes: object(5)\n",
      "memory usage: 252.8+ KB\n"
     ]
    }
   ],
   "source": [
    "df.info()"
   ]
  },
  {
   "cell_type": "code",
   "execution_count": 6,
   "metadata": {},
   "outputs": [
    {
     "data": {
      "text/plain": [
       "<bound method NDFrame.describe of              1. open   2. high    3. low  4. close  5. volume\n",
       "2021-04-07  125.8300  127.9200  125.1400  127.9000   83466716\n",
       "2021-04-06  126.5000  127.1300  125.6500  126.2100   80171253\n",
       "2021-04-05  123.8700  126.1601  123.0700  125.9000   88651175\n",
       "2021-04-01  123.6600  124.1800  122.4900  123.0000   75089134\n",
       "2021-03-31  121.6500  123.5200  121.1500  122.1500  118323826\n",
       "...              ...       ...       ...       ...        ...\n",
       "1999-11-05   84.6200   88.3700   84.0000   88.3100    3721500\n",
       "1999-11-04   82.0600   85.3700   80.6200   83.6200    3384700\n",
       "1999-11-03   81.6200   83.2500   81.0000   81.5000    2932700\n",
       "1999-11-02   78.0000   81.6900   77.3100   80.2500    3564600\n",
       "1999-11-01   80.0000   80.6900   77.3700   77.6200    2487300\n",
       "\n",
       "[5392 rows x 5 columns]>"
      ]
     },
     "execution_count": 6,
     "metadata": {},
     "output_type": "execute_result"
    }
   ],
   "source": [
    "df.describe"
   ]
  },
  {
   "cell_type": "code",
   "execution_count": null,
   "metadata": {},
   "outputs": [],
   "source": []
  },
  {
   "cell_type": "code",
   "execution_count": null,
   "metadata": {},
   "outputs": [],
   "source": []
  },
  {
   "cell_type": "markdown",
   "metadata": {},
   "source": [
    "References we have used to learn to code\n",
    "\n",
    "https://realpython.com/api-integration-in-python/"
   ]
  },
  {
   "cell_type": "code",
   "execution_count": null,
   "metadata": {},
   "outputs": [],
   "source": []
  },
  {
   "cell_type": "code",
   "execution_count": null,
   "metadata": {},
   "outputs": [],
   "source": []
  }
 ],
 "metadata": {
  "kernelspec": {
   "display_name": "Python 3",
   "language": "python",
   "name": "python3"
  },
  "language_info": {
   "codemirror_mode": {
    "name": "ipython",
    "version": 3
   },
   "file_extension": ".py",
   "mimetype": "text/x-python",
   "name": "python",
   "nbconvert_exporter": "python",
   "pygments_lexer": "ipython3",
   "version": "3.8.5"
  }
 },
 "nbformat": 4,
 "nbformat_minor": 4
}
